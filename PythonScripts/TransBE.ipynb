{
 "cells": [
  {
   "attachments": {},
   "cell_type": "markdown",
   "metadata": {},
   "source": [
    "# TransBE"
   ]
  },
  {
   "attachments": {},
   "cell_type": "markdown",
   "metadata": {},
   "source": [
    "## 01 scRNA-seq DataArry"
   ]
  },
  {
   "cell_type": "code",
   "execution_count": 49,
   "metadata": {},
   "outputs": [],
   "source": [
    "from scipy.sparse import coo_matrix\n",
    "from scipy.io import mmread\n",
    "import os\n",
    "import pandas as pd\n",
    "\n",
    "def mtx2csv(Dir=\"./\",Output=\"./Output.csv.gz\"):\n",
    "    Data = mmread(os.path.join(Dir, \"matrix.mtx\"))\n",
    "    Gene_Name = pd.read_table(os.path.join(Dir, \"genes.tsv\"),header=None)\n",
    "    Cell_Name = pd.read_table(os.path.join(Dir, \"barcodes.tsv\"),header=None)\n",
    "    Matrix = pd.DataFrame(Data.toarray().T, index=Cell_Name[0].to_list(), columns=Gene_Name[1].to_list())\n",
    "    Matrix.to_csv(Output, compression='gzip')\n",
    "\n",
    "mtx2csv(Dir=\"../../../Experiment/ICC-Data/RAW/GSE125449/S2/\",Output=\"../Data/Sample2.csv.gz\")"
   ]
  },
  {
   "attachments": {},
   "cell_type": "markdown",
   "metadata": {},
   "source": [
    "## 02 不同批次数据比较"
   ]
  },
  {
   "cell_type": "code",
   "execution_count": 1,
   "metadata": {},
   "outputs": [],
   "source": [
    "import pandas as pd\n",
    "import numpy as np\n",
    "import scanpy as sc\n",
    "import warnings\n",
    "warnings.filterwarnings('ignore')\n",
    "\n",
    "def Classification(filepath):\n",
    "    Data = pd.read_csv(filepath, index_col=0)\n",
    "\n",
    "    adata = sc.read(filepath)\n",
    "    sc.pp.filter_cells(adata, min_genes=200)\n",
    "    sc.pp.filter_cells(adata, max_genes=30000)\n",
    "    sc.pp.filter_genes(adata, min_cells=3)\n",
    "    adata.var['mt'] = adata.var_names.str.startswith('MT-')\n",
    "    sc.pp.calculate_qc_metrics(adata, qc_vars=['mt'], percent_top=None, log1p=False, inplace=True)\n",
    "    adata = adata[adata.obs.n_genes_by_counts < 2500, :]\n",
    "    adata = adata[adata.obs.pct_counts_mt < 5, :]\n",
    "    sc.pp.normalize_total(adata, target_sum=1e4)\n",
    "    sc.pp.log1p(adata)\n",
    "    sc.pp.highly_variable_genes(adata, min_mean=0.0125, max_mean=3, min_disp=0.5)\n",
    "    adata = adata[:, adata.var.highly_variable]\n",
    "    sc.pp.scale(adata, max_value=10)\n",
    "    sc.tl.pca(adata)\n",
    "    sc.pp.neighbors(adata)\n",
    "    sc.tl.leiden(adata,resolution=0.95)\n",
    "    \n",
    "    Leiden = pd.DataFrame(adata.obs[\"leiden\"])\n",
    "    Data = pd.concat([Data, Leiden], axis=1, join=\"inner\")\n",
    "    return Data\n",
    "\n",
    "Data1 = Classification(\"../Data/Sample1.csv.gz\")\n",
    "Data2 = Classification(\"../Data/Sample2.csv.gz\")\n",
    "Keys = list(set(Data1.columns) & set(Data2.columns))\n",
    "Data1 = Data1[Keys]\n",
    "Data2 = Data2[Keys]\n"
   ]
  },
  {
   "cell_type": "code",
   "execution_count": 2,
   "metadata": {},
   "outputs": [],
   "source": [
    "Data1 = Data1.sort_values(\"leiden\")\n",
    "Data2 = Data2.sort_values(\"leiden\")"
   ]
  },
  {
   "cell_type": "code",
   "execution_count": 3,
   "metadata": {},
   "outputs": [],
   "source": [
    "# > Calculate Loss\n",
    "#   1. Identify the nearest cluster\n",
    "#   2. calculate distences\n",
    "#   3. inner divided outer\n",
    "\n",
    "import numpy as np\n",
    "from sklearn.decomposition import PCA\n",
    "from tqdm import tqdm\n",
    "\n",
    "\n",
    "def Calculate_Distance(A, B):\n",
    "    # A is a matrix which size is (m, k)\n",
    "    # B is a matrix which size is (n, k)\n",
    "    # D is a matrix which size is (m, n)\n",
    "    m = np.shape(A)[0]\n",
    "    n = np.shape(B)[0]\n",
    "    D = np.zeros((m,n))\n",
    "\n",
    "    M = np.dot(A, B.T)\n",
    "    H1 = np.square(A).sum(axis=1) # (1, n) Vector\n",
    "    H2 = np.square(B).sum(axis=1) # (1, m) Vector\n",
    "    D = np.sqrt(-2*M + np.matrix(H2) + np.matrix(H1).T)\n",
    "    return D\n",
    "\n",
    "def Calculate_PCA(Data, N):\n",
    "    pca = PCA(n_components=N)\n",
    "    pca_results = pca.fit(Data)\n",
    "    D = pca.fit_transform(Data)\n",
    "    return D\n",
    "\n",
    "def Calculate_Normalize(Matrix):\n",
    "    # Normalize\n",
    "    for index in range(Matrix.shape[0]):\n",
    "        Line = Matrix.iloc[index,:]\n",
    "        Min = min(Line.to_list())\n",
    "        Max = max(Line.to_list())\n",
    "        Matrix.iloc[index,:] = (Line - Min) / (Max-Min)\n",
    "\n",
    "def Calculate_Loss(Data1, Data2):\n",
    "    D1 = Calculate_PCA(np.array(Data1.drop([\"leiden\"], axis=1)), N=50)\n",
    "    D2 = Calculate_PCA(np.array(Data2.drop([\"leiden\"], axis=1)), N=50)\n",
    "    Distance_Matrix = Calculate_Distance(D1, D2)\n",
    "    Distance_Matrix = pd.DataFrame(Distance_Matrix)\n",
    "    Distance_Matrix = Distance_Matrix.set_index(Data1.index)\n",
    "    Distance_Matrix.columns = Data2.index\n",
    "    Distance_Matrix = Calculate_Normalize(Distance_Matrix)\n",
    "\n",
    "    Loss_list = []\n",
    "    for i, Barcode2 in enumerate(tqdm(list(Distance_Matrix.columns))):\n",
    "        Closest_point = Distance_Matrix[Barcode2].sort_values().index[0]\n",
    "        c1 = Data1.loc[Closest_point, \"leiden\"]\n",
    "        Barcode1 = list(Data1[Data1[\"leiden\"]==c1].index)\n",
    "        Distance_In_Group = Distance_Matrix.loc[Barcode1, Barcode2].mean()\n",
    "        Distance_Out_Group = Distance_Matrix.drop(Barcode1)[Barcode2].mean()\n",
    "        Loss = Distance_In_Group/Distance_Out_Group\n",
    "        Loss_list.append(Loss)\n",
    "    Loss_all = np.mean(Loss_list)\n",
    "    return Loss_all"
   ]
  },
  {
   "attachments": {},
   "cell_type": "markdown",
   "metadata": {},
   "source": [
    "## 03 Transformer 模型构建"
   ]
  },
  {
   "cell_type": "code",
   "execution_count": null,
   "metadata": {},
   "outputs": [],
   "source": []
  }
 ],
 "metadata": {
  "kernelspec": {
   "display_name": "base",
   "language": "python",
   "name": "python3"
  },
  "language_info": {
   "codemirror_mode": {
    "name": "ipython",
    "version": 3
   },
   "file_extension": ".py",
   "mimetype": "text/x-python",
   "name": "python",
   "nbconvert_exporter": "python",
   "pygments_lexer": "ipython3",
   "version": "3.9.12"
  },
  "orig_nbformat": 4
 },
 "nbformat": 4,
 "nbformat_minor": 2
}
